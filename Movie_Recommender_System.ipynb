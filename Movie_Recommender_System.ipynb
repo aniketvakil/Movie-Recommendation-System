{
  "nbformat": 4,
  "nbformat_minor": 0,
  "metadata": {
    "colab": {
      "name": "Movie-Recommender-System.ipynb",
      "version": "0.3.2",
      "provenance": [],
      "collapsed_sections": [],
      "include_colab_link": true
    },
    "kernelspec": {
      "name": "python3",
      "display_name": "Python 3"
    }
  },
  "cells": [
    {
      "cell_type": "markdown",
      "metadata": {
        "id": "view-in-github",
        "colab_type": "text"
      },
      "source": [
        "<a href=\"https://colab.research.google.com/github/aniketvakil/Movie-Recommendation-System/blob/master/Movie_Recommender_System.ipynb\" target=\"_parent\"><img src=\"https://colab.research.google.com/assets/colab-badge.svg\" alt=\"Open In Colab\"/></a>"
      ]
    },
    {
      "cell_type": "code",
      "metadata": {
        "id": "oTlOmozbAwum",
        "colab_type": "code",
        "outputId": "767c4d95-9969-4cc9-fc43-c89b8d8782fc",
        "colab": {
          "base_uri": "https://localhost:8080/",
          "height": 280
        }
      },
      "source": [
        "!pip install python-rake\n",
        "!pip install rake-nltk\n",
        "\n",
        "\n",
        "import pandas as pd\n",
        "from rake_nltk import Rake\n",
        "import numpy as np\n",
        "from sklearn.metrics.pairwise import cosine_similarity\n",
        "from sklearn.feature_extraction.text import CountVectorizer\n",
        "\n",
        "df = pd.read_csv('https://query.data.world/s/uikepcpffyo2nhig52xxeevdialfl7')\n",
        "\n",
        "df = df[['Title','Genre','Director','Actors','Plot']]\n",
        "df.head()"
      ],
      "execution_count": 0,
      "outputs": [
        {
          "output_type": "stream",
          "text": [
            "Requirement already satisfied: python-rake in /usr/local/lib/python3.6/dist-packages (1.4.5)\n",
            "Requirement already satisfied: rake-nltk in /usr/local/lib/python3.6/dist-packages (1.0.4)\n",
            "Requirement already satisfied: nltk in /usr/local/lib/python3.6/dist-packages (from rake-nltk) (3.2.5)\n",
            "Requirement already satisfied: six in /usr/local/lib/python3.6/dist-packages (from nltk->rake-nltk) (1.12.0)\n"
          ],
          "name": "stdout"
        },
        {
          "output_type": "execute_result",
          "data": {
            "text/html": [
              "<div>\n",
              "<style scoped>\n",
              "    .dataframe tbody tr th:only-of-type {\n",
              "        vertical-align: middle;\n",
              "    }\n",
              "\n",
              "    .dataframe tbody tr th {\n",
              "        vertical-align: top;\n",
              "    }\n",
              "\n",
              "    .dataframe thead th {\n",
              "        text-align: right;\n",
              "    }\n",
              "</style>\n",
              "<table border=\"1\" class=\"dataframe\">\n",
              "  <thead>\n",
              "    <tr style=\"text-align: right;\">\n",
              "      <th></th>\n",
              "      <th>Title</th>\n",
              "      <th>Genre</th>\n",
              "      <th>Director</th>\n",
              "      <th>Actors</th>\n",
              "      <th>Plot</th>\n",
              "    </tr>\n",
              "  </thead>\n",
              "  <tbody>\n",
              "    <tr>\n",
              "      <th>0</th>\n",
              "      <td>The Shawshank Redemption</td>\n",
              "      <td>Crime, Drama</td>\n",
              "      <td>Frank Darabont</td>\n",
              "      <td>Tim Robbins, Morgan Freeman, Bob Gunton, Willi...</td>\n",
              "      <td>Two imprisoned men bond over a number of years...</td>\n",
              "    </tr>\n",
              "    <tr>\n",
              "      <th>1</th>\n",
              "      <td>The Godfather</td>\n",
              "      <td>Crime, Drama</td>\n",
              "      <td>Francis Ford Coppola</td>\n",
              "      <td>Marlon Brando, Al Pacino, James Caan, Richard ...</td>\n",
              "      <td>The aging patriarch of an organized crime dyna...</td>\n",
              "    </tr>\n",
              "    <tr>\n",
              "      <th>2</th>\n",
              "      <td>The Godfather: Part II</td>\n",
              "      <td>Crime, Drama</td>\n",
              "      <td>Francis Ford Coppola</td>\n",
              "      <td>Al Pacino, Robert Duvall, Diane Keaton, Robert...</td>\n",
              "      <td>The early life and career of Vito Corleone in ...</td>\n",
              "    </tr>\n",
              "    <tr>\n",
              "      <th>3</th>\n",
              "      <td>The Dark Knight</td>\n",
              "      <td>Action, Crime, Drama</td>\n",
              "      <td>Christopher Nolan</td>\n",
              "      <td>Christian Bale, Heath Ledger, Aaron Eckhart, M...</td>\n",
              "      <td>When the menace known as the Joker emerges fro...</td>\n",
              "    </tr>\n",
              "    <tr>\n",
              "      <th>4</th>\n",
              "      <td>12 Angry Men</td>\n",
              "      <td>Crime, Drama</td>\n",
              "      <td>Sidney Lumet</td>\n",
              "      <td>Martin Balsam, John Fiedler, Lee J. Cobb, E.G....</td>\n",
              "      <td>A jury holdout attempts to prevent a miscarria...</td>\n",
              "    </tr>\n",
              "  </tbody>\n",
              "</table>\n",
              "</div>"
            ],
            "text/plain": [
              "                      Title  ...                                               Plot\n",
              "0  The Shawshank Redemption  ...  Two imprisoned men bond over a number of years...\n",
              "1             The Godfather  ...  The aging patriarch of an organized crime dyna...\n",
              "2    The Godfather: Part II  ...  The early life and career of Vito Corleone in ...\n",
              "3           The Dark Knight  ...  When the menace known as the Joker emerges fro...\n",
              "4              12 Angry Men  ...  A jury holdout attempts to prevent a miscarria...\n",
              "\n",
              "[5 rows x 5 columns]"
            ]
          },
          "metadata": {
            "tags": []
          },
          "execution_count": 65
        }
      ]
    },
    {
      "cell_type": "code",
      "metadata": {
        "id": "ub7Nx2rfAyjO",
        "colab_type": "code",
        "colab": {}
      },
      "source": [
        "# initializing the new column\n",
        "df['Key_words'] = \"\"\n",
        "\n",
        "for index, row in df.iterrows():\n",
        "    plot = row['Plot']\n",
        "    \n",
        "    # instantiating Rake, by default it uses english stopwords from NLTK\n",
        "    # and discards all puntuation characters as well\n",
        "    r = Rake()\n",
        "\n",
        "    # extracting the words by passing the text\n",
        "    r.extract_keywords_from_text(plot)\n",
        "\n",
        "    # getting the dictionary whith key words as keys and their scores as values\n",
        "    key_words_dict_scores = r.get_word_degrees()\n",
        "    \n",
        "    # assigning the key words to the new column for the corresponding movie\n",
        "    row['Key_words'] = list(key_words_dict_scores.keys())\n",
        "\n",
        "# dropping the Plot column\n",
        "df.drop(columns = ['Plot'], inplace = True)"
      ],
      "execution_count": 0,
      "outputs": []
    },
    {
      "cell_type": "code",
      "metadata": {
        "id": "441oQnYjD1DM",
        "colab_type": "code",
        "colab": {}
      },
      "source": [
        "def recommendations(Title,parameter):\n",
        "  \n",
        "  df['bag_of_words'] = df['Genre']+ ' ' + df['Director']+ ' ' +df[parameter]+ ' '+df[parameter]+ ' '+df[parameter]\n",
        "  #df.head()\n",
        "  n=len(df)\n",
        "  for i in range(n):\n",
        "    df['bag_of_words'][i]= df['bag_of_words'][i]+' ' +str(df['Key_words'][i]).strip('[]')\n",
        "  #print(df['bag_of_words'][1])\n",
        "  #df.drop(columns = ['Key_words'], inplace = True)\n",
        "  #df.head()\n",
        "  df.set_index('Title', inplace = True)\n",
        "  df['bag_of_words']= df['bag_of_words'].str.replace(\"'\",\"\")\n",
        "  df['bag_of_words']= df['bag_of_words'].str.replace(',','')\n",
        "  df['bag_of_words']= df['bag_of_words'].str.replace('.','')\n",
        "  count = CountVectorizer()\n",
        "  count_matrix = count.fit_transform(df['bag_of_words'])\n",
        "  indices = pd.Series(df.index)\n",
        "  cosine_sim = cosine_similarity(count_matrix, count_matrix)\n",
        "  recommended_movies = []\n",
        "  # gettin the index of the movie that matches the title\n",
        "  idx = indices[indices == Title].index[0]\n",
        "  # creating a Series with the similarity scores in descending order\n",
        "  score_series = pd.Series(cosine_sim[idx]).sort_values(ascending = False)\n",
        "  # getting the indexes of the 10 most similar movies\n",
        "  top_10_indexes = list(score_series.iloc[1:11].index)\n",
        "  # populating the list with the titles of the best 10 matching movies\n",
        "  for i in top_10_indexes:\n",
        "    recommended_movies.append(list(df.index)[i])\n",
        "        \n",
        "  return recommended_movies\n",
        "  "
      ],
      "execution_count": 0,
      "outputs": []
    },
    {
      "cell_type": "code",
      "metadata": {
        "id": "gKeMSDIyD3_j",
        "colab_type": "code",
        "outputId": "cd17f9a7-a1a9-4e48-f7db-48083274f65d",
        "colab": {
          "base_uri": "https://localhost:8080/",
          "height": 201
        }
      },
      "source": [
        "recommendations('Fargo','Actors')"
      ],
      "execution_count": 0,
      "outputs": [
        {
          "output_type": "execute_result",
          "data": {
            "text/plain": [
              "['The Big Lebowski',\n",
              " 'Network',\n",
              " 'Monsters, Inc.',\n",
              " 'The Shawshank Redemption',\n",
              " 'Papillon',\n",
              " 'JFK',\n",
              " 'Harvey',\n",
              " 'The Graduate',\n",
              " \"One Flew Over the Cuckoo's Nest\",\n",
              " 'Lawrence of Arabia']"
            ]
          },
          "metadata": {
            "tags": []
          },
          "execution_count": 68
        }
      ]
    },
    {
      "cell_type": "code",
      "metadata": {
        "id": "nblg0Mo_WqQ_",
        "colab_type": "code",
        "outputId": "b462e4d6-177e-4710-fed0-e88eeb6d3d03",
        "colab": {
          "base_uri": "https://localhost:8080/",
          "height": 201
        }
      },
      "source": [
        "recommendations('Fargo','Actors')"
      ],
      "execution_count": 0,
      "outputs": [
        {
          "output_type": "execute_result",
          "data": {
            "text/plain": [
              "['The Big Lebowski',\n",
              " 'Network',\n",
              " 'Monsters, Inc.',\n",
              " 'The Shawshank Redemption',\n",
              " 'Papillon',\n",
              " 'JFK',\n",
              " 'Harvey',\n",
              " 'The Graduate',\n",
              " \"One Flew Over the Cuckoo's Nest\",\n",
              " 'Lawrence of Arabia']"
            ]
          },
          "metadata": {
            "tags": []
          },
          "execution_count": 59
        }
      ]
    },
    {
      "cell_type": "code",
      "metadata": {
        "id": "6s9XQqCWnZ36",
        "colab_type": "code",
        "colab": {}
      },
      "source": [
        ""
      ],
      "execution_count": 0,
      "outputs": []
    }
  ]
}